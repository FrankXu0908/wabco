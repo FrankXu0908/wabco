{
 "cells": [
  {
   "cell_type": "code",
   "execution_count": null,
   "id": "6a2428e1",
   "metadata": {},
   "outputs": [
    {
     "name": "stdout",
     "output_type": "stream",
     "text": [
      "DLL loaded successfully!\n",
      "找到 2 个设备!\n",
      "打开相机成功\n",
      "设置连续模式成功\n",
      "关闭自动曝光成功\n",
      "设置曝光时间为 2000.0 微秒\n",
      "设置图像格式成功\n",
      "设置图像宽度成功\n",
      "设置Y偏移成功\n",
      "设置图像高度成功\n",
      "设置数据包大小成功\n",
      "设置数据包间隔成功\n",
      "开始取流成功\n",
      "当前相机链接状态:True\n",
      "监控线程已启动，等待信号触发...\n"
     ]
    }
   ],
   "source": [
    "from CameraDriver import CameraManager\n",
    "import signal\n",
    "import threading\n",
    "CAM = CameraManager()\n",
    "# 注册信号处理函数（用于优雅退出）\n",
    "signal.signal(signal.SIGINT, CAM.signal_handler)\n",
    "# 初始化相机\n",
    "if CAM.data_camera() is None:\n",
    "    print(\"相机初始化失败\")\n",
    "\n",
    "else: \n",
    "    print(f\"当前相机链接状态:{CAM.device_status}\")\n",
    "\n",
    "# 启动监控线程\n",
    "monitor_thread = threading.Thread(target=CAM.monitor_and_capture)\n",
    "monitor_thread.daemon = True  # 主线程退出时自动终止监控线程\n",
    "monitor_thread.start()\n",
    "print(\"监控线程已启动，等待信号触发...\")"
   ]
  },
  {
   "cell_type": "code",
   "execution_count": 3,
   "id": "0e502935",
   "metadata": {},
   "outputs": [
    {
     "name": "stdout",
     "output_type": "stream",
     "text": [
      "停止取流执行码:[0x0]\n",
      "关闭设备执行码:[0x0]\n",
      "销毁句柄执行码:[0x0]\n"
     ]
    },
    {
     "data": {
      "text/plain": [
       "False"
      ]
     },
     "execution_count": 3,
     "metadata": {},
     "output_type": "execute_result"
    }
   ],
   "source": [
    "CAM.off_camera()"
   ]
  },
  {
   "cell_type": "code",
   "execution_count": null,
   "id": "a2b8caef",
   "metadata": {},
   "outputs": [],
   "source": []
  }
 ],
 "metadata": {
  "kernelspec": {
   "display_name": "Python 3",
   "language": "python",
   "name": "python3"
  },
  "language_info": {
   "codemirror_mode": {
    "name": "ipython",
    "version": 3
   },
   "file_extension": ".py",
   "mimetype": "text/x-python",
   "name": "python",
   "nbconvert_exporter": "python",
   "pygments_lexer": "ipython3",
   "version": "3.13.2"
  }
 },
 "nbformat": 4,
 "nbformat_minor": 5
}
